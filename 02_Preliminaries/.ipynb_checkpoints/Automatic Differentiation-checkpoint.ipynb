{
 "cells": [
  {
   "cell_type": "code",
   "execution_count": 13,
   "id": "4beb12c3",
   "metadata": {},
   "outputs": [
    {
     "data": {
      "text/plain": [
       "tensor([0., 1., 2., 3.])"
      ]
     },
     "execution_count": 13,
     "metadata": {},
     "output_type": "execute_result"
    }
   ],
   "source": [
    "# Automatic differentiation\n",
    "\n",
    "# A simple Example\n",
    "# Let y = 2*x^T*T\n",
    "\n",
    "import torch\n",
    "\n",
    "x = torch.arange(4.0)\n",
    "x"
   ]
  },
  {
   "cell_type": "code",
   "execution_count": 14,
   "id": "0c04925c",
   "metadata": {},
   "outputs": [],
   "source": [
    "'''\n",
    "It is important that we do not allocate new memory every time we\n",
    "take a derivate with respect to a parameter becuase we will often\n",
    "update the same parameters thousands or millions of times and could\n",
    "quickly run out of memory.\n",
    "'''\n",
    "\n",
    "x.requires_grad_(True) \n",
    "# or you can just initialize x like 'x = torch.arange(4.0, requires_grad=True)'\n",
    "x.grad   # Default value is None"
   ]
  },
  {
   "cell_type": "code",
   "execution_count": 15,
   "id": "6f162786",
   "metadata": {},
   "outputs": [
    {
     "data": {
      "text/plain": [
       "tensor(28., grad_fn=<MulBackward0>)"
      ]
     },
     "execution_count": 15,
     "metadata": {},
     "output_type": "execute_result"
    }
   ],
   "source": [
    "# We assumed y = 2 * x^T * T above.\n",
    "y = 2 * torch.dot(x, x)\n",
    "y"
   ]
  },
  {
   "cell_type": "code",
   "execution_count": 16,
   "id": "2d87aa97",
   "metadata": {},
   "outputs": [
    {
     "data": {
      "text/plain": [
       "tensor([ 0.,  4.,  8., 12.])"
      ]
     },
     "execution_count": 16,
     "metadata": {},
     "output_type": "execute_result"
    }
   ],
   "source": [
    "# Pytorch automatically calculate the gradient of y with\n",
    "# respect to each component of x by some methods.\n",
    "\n",
    "y.backward()\n",
    "x.grad"
   ]
  },
  {
   "cell_type": "markdown",
   "id": "2df80317",
   "metadata": {},
   "source": [
    "<h5>After differentiation, y' becomes 4 * x</h5>"
   ]
  },
  {
   "cell_type": "code",
   "execution_count": 17,
   "id": "9ab8f96e",
   "metadata": {},
   "outputs": [
    {
     "data": {
      "text/plain": [
       "tensor([True, True, True, True])"
      ]
     },
     "execution_count": 17,
     "metadata": {},
     "output_type": "execute_result"
    }
   ],
   "source": [
    "x.grad == 4 * x"
   ]
  },
  {
   "cell_type": "code",
   "execution_count": 20,
   "id": "7d45a361",
   "metadata": {},
   "outputs": [
    {
     "data": {
      "text/plain": [
       "tensor([1., 1., 1., 1.])"
      ]
     },
     "execution_count": 20,
     "metadata": {},
     "output_type": "execute_result"
    }
   ],
   "source": [
    "# Pytorch accumulates the gradient in default,\n",
    "# so we need to clear the previous values\n",
    "x.grad.zero_()\n",
    "y = x.sum()  # same as y = x1 + x2 + x3 + x4\n",
    "y.backward()\n",
    "x.grad # so we get 1, 1, 1, 1 after differentiation"
   ]
  },
  {
   "cell_type": "code",
   "execution_count": 22,
   "id": "a3149a26",
   "metadata": {},
   "outputs": [
    {
     "data": {
      "text/plain": [
       "tensor([0., 2., 4., 6.])"
      ]
     },
     "execution_count": 22,
     "metadata": {},
     "output_type": "execute_result"
    }
   ],
   "source": [
    "# Backward for Non-Scalar Variables\n",
    "\n",
    "x.grad.zero_()\n",
    "y = x * x\n",
    "y.sum().backward()\n",
    "x.grad"
   ]
  },
  {
   "cell_type": "code",
   "execution_count": 23,
   "id": "0a1ac07a",
   "metadata": {},
   "outputs": [
    {
     "data": {
      "text/plain": [
       "tensor([True, True, True, True])"
      ]
     },
     "execution_count": 23,
     "metadata": {},
     "output_type": "execute_result"
    }
   ],
   "source": [
    "# Detaching Computation\n",
    "\n",
    "x.grad.zero_()\n",
    "y = x * x\n",
    "u = y.detach()   # treating u as a constant\n",
    "z = u * x\n",
    "\n",
    "z.sum().backward()\n",
    "x.grad == u"
   ]
  },
  {
   "cell_type": "code",
   "execution_count": 24,
   "id": "0f376cbe",
   "metadata": {},
   "outputs": [
    {
     "data": {
      "text/plain": [
       "tensor([True, True, True, True])"
      ]
     },
     "execution_count": 24,
     "metadata": {},
     "output_type": "execute_result"
    }
   ],
   "source": [
    "x.grad.zero_()\n",
    "y.sum().backward()\n",
    "x.grad == 2 * x"
   ]
  }
 ],
 "metadata": {
  "kernelspec": {
   "display_name": "Python 3 (ipykernel)",
   "language": "python",
   "name": "python3"
  },
  "language_info": {
   "codemirror_mode": {
    "name": "ipython",
    "version": 3
   },
   "file_extension": ".py",
   "mimetype": "text/x-python",
   "name": "python",
   "nbconvert_exporter": "python",
   "pygments_lexer": "ipython3",
   "version": "3.8.13"
  }
 },
 "nbformat": 4,
 "nbformat_minor": 5
}
